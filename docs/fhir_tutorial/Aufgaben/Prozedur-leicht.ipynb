{
 "metadata": {
  "language_info": {
   "codemirror_mode": {
    "name": "ipython",
    "version": 3
   },
   "file_extension": ".py",
   "mimetype": "text/x-python",
   "name": "python",
   "nbconvert_exporter": "python",
   "pygments_lexer": "ipython3",
   "version": "3.9.0-final"
  },
  "orig_nbformat": 2,
  "kernelspec": {
   "name": "python3",
   "display_name": "Python 3.9.0 64-bit",
   "metadata": {
    "interpreter": {
     "hash": "0f4413c34a027b2e4099598272bf6072df00985c8939973a12bc6d07d89f886d"
    }
   }
  }
 },
 "nbformat": 4,
 "nbformat_minor": 2,
 "cells": [
  {
   "source": [
    "# Erstellen einer FHIR Procedure-Ressource"
   ],
   "cell_type": "markdown",
   "metadata": {}
  },
  {
   "cell_type": "code",
   "execution_count": null,
   "metadata": {},
   "outputs": [],
   "source": [
    "!pip install git+git://github.com/smart-on-fhir/client-py.git"
   ]
  },
  {
   "cell_type": "code",
   "execution_count": 1,
   "metadata": {},
   "outputs": [],
   "source": [
    "from IPython.display import IFrame\n",
    "import json\n",
    "import requests\n",
    "from fhirclient.models import (\n",
    "    procedure,\n",
    "    codeableconcept,\n",
    "    coding,\n",
    "    fhirreference,\n",
    "    fhirdate\n",
    ")"
   ]
  },
  {
   "cell_type": "code",
   "execution_count": 9,
   "metadata": {},
   "outputs": [
    {
     "output_type": "execute_result",
     "data": {
      "text/plain": [
       "<IPython.lib.display.IFrame at 0x14cf7b7f760>"
      ],
      "text/html": "\n        <iframe\n            width=\"1200\"\n            height=\"330\"\n            src=\"https://hl7.org/fhir/procedure.html\"\n            frameborder=\"0\"\n            allowfullscreen\n        ></iframe>\n        "
     },
     "metadata": {},
     "execution_count": 9
    }
   ],
   "source": [
    "# Procedure Ressource in der FHIR Spezifikation.\n",
    "IFrame('https://hl7.org/fhir/procedure.html', width=1200, height=330)"
   ]
  },
  {
   "source": [
    "### Zur Orientierung bzgl. der verwendeten Codesysteme nutzen Sie das [Prozedur-Profil der Medizininformatik-Initiative](https://simplifier.net/medizininformatikinitiative-modulprozeduren/prozedur)"
   ],
   "cell_type": "markdown",
   "metadata": {}
  },
  {
   "cell_type": "code",
   "execution_count": 20,
   "metadata": {},
   "outputs": [],
   "source": [
    "# Instanziieren des Prozedur-Objektes\n",
    "my_procedure = procedure.Procedure()"
   ]
  },
  {
   "cell_type": "code",
   "execution_count": 21,
   "metadata": {},
   "outputs": [],
   "source": [
    "# Setzen das Status auf 'completed' für eine abgeschlossene Prozedur\n",
    "status = 'completed'\n",
    "my_procedure.status = status"
   ]
  },
  {
   "cell_type": "code",
   "execution_count": 28,
   "metadata": {},
   "outputs": [],
   "source": [
    "from fhirclient.models import period\n",
    "myperiod = period.Period()"
   ]
  },
  {
   "cell_type": "code",
   "execution_count": 29,
   "metadata": {},
   "outputs": [],
   "source": [
    "myPeriod.fhirdate = ['2020-05-07T00:00:00', '2020-08-15T00:00:00']"
   ]
  },
  {
   "cell_type": "code",
   "execution_count": null,
   "metadata": {},
   "outputs": [],
   "source": []
  },
  {
   "cell_type": "code",
   "execution_count": 30,
   "metadata": {},
   "outputs": [],
   "source": [
    "\n",
    "my_procedure.performedPeriod = myPeriod"
   ]
  },
  {
   "cell_type": "code",
   "execution_count": 31,
   "metadata": {},
   "outputs": [],
   "source": [
    "# Vergeben eines Codes für die Prozedur aus dem Operationen- und Prozedurenschlüssel Version 2020\n",
    "ops_code = codeableconcept.CodeableConcept()\n",
    "ops_coding = coding.Coding()\n",
    "ops_coding.system = 'http://fhir.de/CodeSystem/dimdi/ops'\n",
    "ops_coding.version = '2020'\n",
    "ops_coding.code = '5-470'\n",
    "ops_coding.display = 'Appendektomie'\n",
    "ops_code.coding = [ops_coding]\n",
    "my_procedure.code = ops_code"
   ]
  },
  {
   "source": [
    "### BONUS: Stellen Sie die Referenz zum zuvor hochgeladenen Patienten her"
   ],
   "cell_type": "markdown",
   "metadata": {}
  },
  {
   "cell_type": "code",
   "execution_count": 32,
   "metadata": {},
   "outputs": [],
   "source": [
    "subject = fhirreference.FHIRReference()\n",
    "subject.reference = 'Patient/example'\n",
    "my_procedure.subject = subject"
   ]
  },
  {
   "cell_type": "code",
   "execution_count": 33,
   "metadata": {},
   "outputs": [
    {
     "output_type": "error",
     "ename": "FHIRValidationError",
     "evalue": "{root}:\n  performedPeriod:\n    Expecting property \"performedPeriod\" on <class 'fhirclient.models.procedure.Procedure'> to be <class 'fhirclient.models.period.Period'>, but is <class 'module'>",
     "traceback": [
      "\u001b[1;31m---------------------------------------------------------------------------\u001b[0m",
      "\u001b[1;31mFHIRValidationError\u001b[0m                       Traceback (most recent call last)",
      "\u001b[1;32m<ipython-input-33-58b216816055>\u001b[0m in \u001b[0;36m<module>\u001b[1;34m\u001b[0m\n\u001b[1;32m----> 1\u001b[1;33m \u001b[0mprint\u001b[0m\u001b[1;33m(\u001b[0m\u001b[0mjson\u001b[0m\u001b[1;33m.\u001b[0m\u001b[0mdumps\u001b[0m\u001b[1;33m(\u001b[0m\u001b[0mmy_procedure\u001b[0m\u001b[1;33m.\u001b[0m\u001b[0mas_json\u001b[0m\u001b[1;33m(\u001b[0m\u001b[1;33m)\u001b[0m\u001b[1;33m,\u001b[0m \u001b[0mindent\u001b[0m\u001b[1;33m=\u001b[0m\u001b[1;36m4\u001b[0m\u001b[1;33m)\u001b[0m\u001b[1;33m)\u001b[0m\u001b[1;33m\u001b[0m\u001b[1;33m\u001b[0m\u001b[0m\n\u001b[0m",
      "\u001b[1;32m~\\AppData\\Local\\Programs\\Python\\Python39\\lib\\site-packages\\fhirclient\\models\\fhirabstractresource.py\u001b[0m in \u001b[0;36mas_json\u001b[1;34m(self)\u001b[0m\n\u001b[0;32m     40\u001b[0m \u001b[1;33m\u001b[0m\u001b[0m\n\u001b[0;32m     41\u001b[0m     \u001b[1;32mdef\u001b[0m \u001b[0mas_json\u001b[0m\u001b[1;33m(\u001b[0m\u001b[0mself\u001b[0m\u001b[1;33m)\u001b[0m\u001b[1;33m:\u001b[0m\u001b[1;33m\u001b[0m\u001b[1;33m\u001b[0m\u001b[0m\n\u001b[1;32m---> 42\u001b[1;33m         \u001b[0mjs\u001b[0m \u001b[1;33m=\u001b[0m \u001b[0msuper\u001b[0m\u001b[1;33m(\u001b[0m\u001b[0mFHIRAbstractResource\u001b[0m\u001b[1;33m,\u001b[0m \u001b[0mself\u001b[0m\u001b[1;33m)\u001b[0m\u001b[1;33m.\u001b[0m\u001b[0mas_json\u001b[0m\u001b[1;33m(\u001b[0m\u001b[1;33m)\u001b[0m\u001b[1;33m\u001b[0m\u001b[1;33m\u001b[0m\u001b[0m\n\u001b[0m\u001b[0;32m     43\u001b[0m         \u001b[0mjs\u001b[0m\u001b[1;33m[\u001b[0m\u001b[1;34m'resourceType'\u001b[0m\u001b[1;33m]\u001b[0m \u001b[1;33m=\u001b[0m \u001b[0mself\u001b[0m\u001b[1;33m.\u001b[0m\u001b[0mresource_type\u001b[0m\u001b[1;33m\u001b[0m\u001b[1;33m\u001b[0m\u001b[0m\n\u001b[0;32m     44\u001b[0m         \u001b[1;32mreturn\u001b[0m \u001b[0mjs\u001b[0m\u001b[1;33m\u001b[0m\u001b[1;33m\u001b[0m\u001b[0m\n",
      "\u001b[1;32m~\\AppData\\Local\\Programs\\Python\\Python39\\lib\\site-packages\\fhirclient\\models\\fhirabstractbase.py\u001b[0m in \u001b[0;36mas_json\u001b[1;34m(self)\u001b[0m\n\u001b[0;32m    295\u001b[0m \u001b[1;33m\u001b[0m\u001b[0m\n\u001b[0;32m    296\u001b[0m         \u001b[1;32mif\u001b[0m \u001b[0mlen\u001b[0m\u001b[1;33m(\u001b[0m\u001b[0merrs\u001b[0m\u001b[1;33m)\u001b[0m \u001b[1;33m>\u001b[0m \u001b[1;36m0\u001b[0m\u001b[1;33m:\u001b[0m\u001b[1;33m\u001b[0m\u001b[1;33m\u001b[0m\u001b[0m\n\u001b[1;32m--> 297\u001b[1;33m             \u001b[1;32mraise\u001b[0m \u001b[0mFHIRValidationError\u001b[0m\u001b[1;33m(\u001b[0m\u001b[0merrs\u001b[0m\u001b[1;33m)\u001b[0m\u001b[1;33m\u001b[0m\u001b[1;33m\u001b[0m\u001b[0m\n\u001b[0m\u001b[0;32m    298\u001b[0m         \u001b[1;32mreturn\u001b[0m \u001b[0mjs\u001b[0m\u001b[1;33m\u001b[0m\u001b[1;33m\u001b[0m\u001b[0m\n\u001b[0;32m    299\u001b[0m \u001b[1;33m\u001b[0m\u001b[0m\n",
      "\u001b[1;31mFHIRValidationError\u001b[0m: {root}:\n  performedPeriod:\n    Expecting property \"performedPeriod\" on <class 'fhirclient.models.procedure.Procedure'> to be <class 'fhirclient.models.period.Period'>, but is <class 'module'>"
     ]
    }
   ],
   "source": [
    "print(json.dumps(my_procedure.as_json(), indent=4))"
   ]
  },
  {
   "source": [
    "## Aufgaben\n",
    "1. Implementieren Sie den Durchführungszeitraum mit Start- und Endzeitpunkt der Prozedur (Tipp: zeitlicher Verlauf mit Start und Ende klingt nach Period!)\n",
    "2. Lassen Sie die Ressource vom Server validieren und laden Sie diese in den Testserver hoch\n",
    "------\n",
    "Bonus: Stellen Sie die Referenz zum zuvor hochgeladenen Patienten her. Nutzen Sie hierfür die vorgestellten FHIR-Search Operatoren. "
   ],
   "cell_type": "markdown",
   "metadata": {}
  },
  {
   "cell_type": "code",
   "execution_count": null,
   "metadata": {},
   "outputs": [],
   "source": []
  }
 ]
}